{
 "cells": [
  {
   "cell_type": "code",
   "execution_count": 1,
   "id": "6a975cc0",
   "metadata": {},
   "outputs": [],
   "source": [
    "# Import Splinter and BeautifulSoup\n",
    "from splinter import Browser\n",
    "from bs4 import BeautifulSoup as soup\n",
    "from webdriver_manager.chrome import ChromeDriverManager\n",
    "import pandas as pd\n",
    "import requests\n"
   ]
  },
  {
   "cell_type": "code",
   "execution_count": 2,
   "id": "8a500acc",
   "metadata": {
    "scrolled": true
   },
   "outputs": [
    {
     "name": "stderr",
     "output_type": "stream",
     "text": [
      "\n",
      "\n",
      "====== WebDriver manager ======\n",
      "Current google-chrome version is 99.0.4844\n",
      "Get LATEST chromedriver version for 99.0.4844 google-chrome\n",
      "Trying to download new driver from https://chromedriver.storage.googleapis.com/99.0.4844.51/chromedriver_win32.zip\n",
      "Driver has been saved in cache [C:\\Users\\rolli\\.wdm\\drivers\\chromedriver\\win32\\99.0.4844.51]\n"
     ]
    }
   ],
   "source": [
    "executable_path = {'executable_path': ChromeDriverManager().install()}\n",
    "browser = Browser('chrome', **executable_path, headless=False)"
   ]
  },
  {
   "cell_type": "code",
   "execution_count": 3,
   "id": "8f505c41",
   "metadata": {},
   "outputs": [],
   "source": [
    "# 1. Use browser to visit the URL \n",
    "url = 'https://marshemispheres.com/'\n",
    "\n",
    "browser.visit(url)"
   ]
  },
  {
   "cell_type": "code",
   "execution_count": 4,
   "id": "3601ff98",
   "metadata": {},
   "outputs": [],
   "source": [
    "# 2. Create a list to hold the images and titles.\n",
    "hemisphere_image_urls = []\n",
    "\n",
    "#{'img_url': 'https://marshemispheres.com/images/full.jpg', 'title': 'Cereberus Hemisphere Enhanced'},\n",
    "#                         {'img_url': 'https://marshemispheres.com/images/schiaparelli_enhanced-full.jpg', 'title' : 'Schiaparelli Hemisphere Enhanced'},\n",
    "#                         {'img_url': 'https://marshemispheres.com/images/syrtis_major_enhanced-full.jpg', 'title' : 'Syrtis Major Hemisphere Enhanced'},\n",
    "#                         {'img_url': 'https://marshemispheres.com/images/valles_marineris_enhanced-full.jpg', 'title' : 'Valles Marineris Hemiphere Enhanced'}\n",
    "# \n",
    "#                        ]                       \n",
    "# 3. Write code to retrieve the image urls and titles for each hemisphere.\n",
    "#response = requests.get(url)\n",
    "\n",
    "\n",
    "#html = browser.html\n",
    "#soup1 = soup(response.text, 'html.parser')\n",
    "\n",
    "html1 = browser.html\n",
    "html_soup = soup(html1, 'html.parser')\n",
    "\n",
    "products = html_soup.find_all('div', class_= \"description\")\n",
    "\n",
    "for x in range(4):  \n",
    "        hemisphere= {}\n",
    "        html1 = browser.html\n",
    "        html_soup = soup(html1, 'html.parser')\n",
    "        browser.visit(url)\n",
    "        browser.find_by_css('a.product-item h3')[x].click()\n",
    "        site_url = browser.find_by_text(\"Sample\").first\n",
    "        img_url = site_url['href']\n",
    "        title = browser.find_by_css(\"h2.title\").text\n",
    "        \n",
    "        keys =['img_url', 'title']\n",
    "        values = [img_url, title]\n",
    "        hemisphere = dict(zip(keys, values))\n",
    "        \n",
    "        browser.back()\n",
    "        hemisphere_image_urls.append(hemisphere)\n",
    "    \n"
   ]
  },
  {
   "cell_type": "code",
   "execution_count": null,
   "id": "555f0a8d",
   "metadata": {},
   "outputs": [],
   "source": []
  },
  {
   "cell_type": "code",
   "execution_count": 5,
   "id": "abc0f18d",
   "metadata": {},
   "outputs": [
    {
     "data": {
      "text/plain": [
       "[{'img_url': 'https://marshemispheres.com/images/full.jpg',\n",
       "  'title': 'Cerberus Hemisphere Enhanced'},\n",
       " {'img_url': 'https://marshemispheres.com/images/schiaparelli_enhanced-full.jpg',\n",
       "  'title': 'Schiaparelli Hemisphere Enhanced'},\n",
       " {'img_url': 'https://marshemispheres.com/images/syrtis_major_enhanced-full.jpg',\n",
       "  'title': 'Syrtis Major Hemisphere Enhanced'},\n",
       " {'img_url': 'https://marshemispheres.com/images/valles_marineris_enhanced-full.jpg',\n",
       "  'title': 'Valles Marineris Hemisphere Enhanced'}]"
      ]
     },
     "execution_count": 5,
     "metadata": {},
     "output_type": "execute_result"
    }
   ],
   "source": [
    "hemisphere_image_urls"
   ]
  },
  {
   "cell_type": "code",
   "execution_count": null,
   "id": "af2d381e",
   "metadata": {},
   "outputs": [],
   "source": []
  }
 ],
 "metadata": {
  "kernelspec": {
   "display_name": "PythonData",
   "language": "python",
   "name": "pythondata"
  },
  "language_info": {
   "codemirror_mode": {
    "name": "ipython",
    "version": 3
   },
   "file_extension": ".py",
   "mimetype": "text/x-python",
   "name": "python",
   "nbconvert_exporter": "python",
   "pygments_lexer": "ipython3",
   "version": "3.9.7"
  }
 },
 "nbformat": 4,
 "nbformat_minor": 5
}
